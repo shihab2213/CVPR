{
  "nbformat": 4,
  "nbformat_minor": 0,
  "metadata": {
    "colab": {
      "name": "18-37627-1.ipynb",
      "provenance": []
    },
    "kernelspec": {
      "name": "python3",
      "display_name": "Python 3"
    },
    "language_info": {
      "name": "python"
    }
  },
  "cells": [
    {
      "cell_type": "code",
      "metadata": {
        "id": "XcPgm-sEV9gj"
      },
      "source": [
        "import tensorflow as tf"
      ],
      "execution_count": 3,
      "outputs": []
    },
    {
      "cell_type": "code",
      "metadata": {
        "id": "U37ws9WQWFQc"
      },
      "source": [
        "from tensorflow import keras"
      ],
      "execution_count": 4,
      "outputs": []
    },
    {
      "cell_type": "code",
      "metadata": {
        "id": "hiFJzxImWLqe"
      },
      "source": [
        "from tensorflow.keras import layers\n",
        "from tensorflow.keras.datasets import mnist"
      ],
      "execution_count": 5,
      "outputs": []
    },
    {
      "cell_type": "code",
      "metadata": {
        "id": "kwv-2_GBWfU9"
      },
      "source": [
        "import os\n",
        "import random\n",
        "import numpy as np\n",
        "import matplotlib.pyplot as plt\n"
      ],
      "execution_count": 6,
      "outputs": []
    },
    {
      "cell_type": "code",
      "metadata": {
        "colab": {
          "base_uri": "https://localhost:8080/"
        },
        "id": "vzvz91acWnzf",
        "outputId": "4d465342-fbfd-4385-a1d7-72cfbc14c29a"
      },
      "source": [
        "(X_train, Y_train), (X_test,Y_test) = mnist.load_data()"
      ],
      "execution_count": 7,
      "outputs": [
        {
          "output_type": "stream",
          "text": [
            "Downloading data from https://storage.googleapis.com/tensorflow/tf-keras-datasets/mnist.npz\n",
            "11493376/11490434 [==============================] - 0s 0us/step\n"
          ],
          "name": "stdout"
        }
      ]
    },
    {
      "cell_type": "code",
      "metadata": {
        "colab": {
          "base_uri": "https://localhost:8080/"
        },
        "id": "chBOTie5f7uc",
        "outputId": "553d4be9-e2e3-41a5-b966-d8a887b73446"
      },
      "source": [
        "print(f\"shape of X_train:{X_train.shape}\")\n",
        "print(f\"shape of Y_train:{Y_train.shape}\")\n",
        "print()\n",
        "\n",
        "print(f\"shape of X_test:{X_test.shape}\")\n",
        "print(f\"shape of Y_test:{Y_test.shape}\")"
      ],
      "execution_count": 8,
      "outputs": [
        {
          "output_type": "stream",
          "text": [
            "shape of X_train:(60000, 28, 28)\n",
            "shape of Y_train:(60000,)\n",
            "\n",
            "shape of X_test:(10000, 28, 28)\n",
            "shape of Y_test:(10000,)\n"
          ],
          "name": "stdout"
        }
      ]
    },
    {
      "cell_type": "code",
      "metadata": {
        "id": "W4VV6Ic-jCJK"
      },
      "source": [
        "X_train= X_train.reshape((60000,28,28,1))\n",
        "X_test = X_test.reshape((10000,28,28,1))"
      ],
      "execution_count": 9,
      "outputs": []
    },
    {
      "cell_type": "markdown",
      "metadata": {
        "id": "MD3q5bXaowP3"
      },
      "source": [
        "Data normalization\n"
      ]
    },
    {
      "cell_type": "code",
      "metadata": {
        "id": "D1LL1z-Pj8VR"
      },
      "source": [
        "X_train_n = X_train/255.\n",
        "X_test_n = X_test/255."
      ],
      "execution_count": 10,
      "outputs": []
    },
    {
      "cell_type": "markdown",
      "metadata": {
        "id": "RC2_1ToDqUyU"
      },
      "source": [
        "Split the data into train/validation\n",
        "we keep 5000 data for validation and rest of 55,000 data for training"
      ]
    },
    {
      "cell_type": "code",
      "metadata": {
        "id": "KJmk2A_Yotia"
      },
      "source": [
        "X_valid,X_train = X_train_n[:5000], X_train_n[5000:]\n",
        "Y_valid, Y_train = Y_train[:5000], Y_train[5000:]\n",
        "X_test = X_test_n"
      ],
      "execution_count": 11,
      "outputs": []
    },
    {
      "cell_type": "code",
      "metadata": {
        "id": "xZSEhX82rIOA"
      },
      "source": [
        "model = keras.models.Sequential()\n",
        "model.add(keras.layers.Conv2D(filters=32,kernel_size=(3, 3),strides=1, padding='valid', activation='relu',input_shape=(28,28,1)))\n",
        "model.add(keras.layers.MaxPooling2D((2, 2)))\n",
        "\n",
        "model.add(keras.layers.Flatten())\n",
        "model.add(keras.layers.Dense(300, activation=\"relu\"))\n",
        "model.add(keras.layers.Dense(100,activation=\"relu\"))\n",
        "model.add(keras.layers.Dense(10,activation=\"softmax\"))\n"
      ],
      "execution_count": 12,
      "outputs": []
    },
    {
      "cell_type": "code",
      "metadata": {
        "colab": {
          "base_uri": "https://localhost:8080/"
        },
        "id": "Sg48U7QDtYRg",
        "outputId": "07fb9ad2-3a77-4ac9-9b25-a6312f4b40b5"
      },
      "source": [
        "model.summary()"
      ],
      "execution_count": 13,
      "outputs": [
        {
          "output_type": "stream",
          "text": [
            "Model: \"sequential\"\n",
            "_________________________________________________________________\n",
            "Layer (type)                 Output Shape              Param #   \n",
            "=================================================================\n",
            "conv2d (Conv2D)              (None, 26, 26, 32)        320       \n",
            "_________________________________________________________________\n",
            "max_pooling2d (MaxPooling2D) (None, 13, 13, 32)        0         \n",
            "_________________________________________________________________\n",
            "flatten (Flatten)            (None, 5408)              0         \n",
            "_________________________________________________________________\n",
            "dense (Dense)                (None, 300)               1622700   \n",
            "_________________________________________________________________\n",
            "dense_1 (Dense)              (None, 100)               30100     \n",
            "_________________________________________________________________\n",
            "dense_2 (Dense)              (None, 10)                1010      \n",
            "=================================================================\n",
            "Total params: 1,654,130\n",
            "Trainable params: 1,654,130\n",
            "Non-trainable params: 0\n",
            "_________________________________________________________________\n"
          ],
          "name": "stdout"
        }
      ]
    },
    {
      "cell_type": "code",
      "metadata": {
        "id": "QF7XwfWbuOay"
      },
      "source": [
        "model.compile(\n",
        "              optimizer='adam',\n",
        "              loss='sparse_categorical_crossentropy',\n",
        "              metrics=['accuracy'])"
      ],
      "execution_count": 14,
      "outputs": []
    },
    {
      "cell_type": "code",
      "metadata": {
        "colab": {
          "base_uri": "https://localhost:8080/"
        },
        "id": "bT0Obgo2v0Kk",
        "outputId": "0e4fc62e-02c1-49d3-896a-66350654a2ab"
      },
      "source": [
        "model_history= model.fit(X_train,Y_train, epochs=30,batch_size=64,\n",
        "                         validation_data=(X_valid, Y_valid))"
      ],
      "execution_count": 15,
      "outputs": [
        {
          "output_type": "stream",
          "text": [
            "Epoch 1/30\n",
            "860/860 [==============================] - 37s 43ms/step - loss: 0.1643 - accuracy: 0.9499 - val_loss: 0.0623 - val_accuracy: 0.9808\n",
            "Epoch 2/30\n",
            "860/860 [==============================] - 36s 42ms/step - loss: 0.0521 - accuracy: 0.9837 - val_loss: 0.0540 - val_accuracy: 0.9834\n",
            "Epoch 3/30\n",
            "860/860 [==============================] - 37s 43ms/step - loss: 0.0322 - accuracy: 0.9898 - val_loss: 0.0484 - val_accuracy: 0.9862\n",
            "Epoch 4/30\n",
            "860/860 [==============================] - 36s 42ms/step - loss: 0.0190 - accuracy: 0.9942 - val_loss: 0.0452 - val_accuracy: 0.9870\n",
            "Epoch 5/30\n",
            "860/860 [==============================] - 36s 42ms/step - loss: 0.0154 - accuracy: 0.9950 - val_loss: 0.0491 - val_accuracy: 0.9876\n",
            "Epoch 6/30\n",
            "860/860 [==============================] - 36s 42ms/step - loss: 0.0115 - accuracy: 0.9961 - val_loss: 0.0533 - val_accuracy: 0.9868\n",
            "Epoch 7/30\n",
            "860/860 [==============================] - 36s 42ms/step - loss: 0.0102 - accuracy: 0.9969 - val_loss: 0.0501 - val_accuracy: 0.9886\n",
            "Epoch 8/30\n",
            "860/860 [==============================] - 36s 42ms/step - loss: 0.0073 - accuracy: 0.9976 - val_loss: 0.0568 - val_accuracy: 0.9864\n",
            "Epoch 9/30\n",
            "860/860 [==============================] - 36s 42ms/step - loss: 0.0064 - accuracy: 0.9978 - val_loss: 0.0652 - val_accuracy: 0.9868\n",
            "Epoch 10/30\n",
            "860/860 [==============================] - 36s 42ms/step - loss: 0.0071 - accuracy: 0.9976 - val_loss: 0.0625 - val_accuracy: 0.9880\n",
            "Epoch 11/30\n",
            "860/860 [==============================] - 36s 42ms/step - loss: 0.0055 - accuracy: 0.9982 - val_loss: 0.0593 - val_accuracy: 0.9872\n",
            "Epoch 12/30\n",
            "860/860 [==============================] - 36s 42ms/step - loss: 0.0051 - accuracy: 0.9982 - val_loss: 0.0730 - val_accuracy: 0.9862\n",
            "Epoch 13/30\n",
            "860/860 [==============================] - 36s 42ms/step - loss: 0.0033 - accuracy: 0.9989 - val_loss: 0.0608 - val_accuracy: 0.9876\n",
            "Epoch 14/30\n",
            "860/860 [==============================] - 36s 42ms/step - loss: 0.0044 - accuracy: 0.9985 - val_loss: 0.0637 - val_accuracy: 0.9864\n",
            "Epoch 15/30\n",
            "860/860 [==============================] - 36s 42ms/step - loss: 0.0052 - accuracy: 0.9985 - val_loss: 0.0586 - val_accuracy: 0.9896\n",
            "Epoch 16/30\n",
            "860/860 [==============================] - 36s 42ms/step - loss: 0.0019 - accuracy: 0.9994 - val_loss: 0.0676 - val_accuracy: 0.9878\n",
            "Epoch 17/30\n",
            "860/860 [==============================] - 36s 42ms/step - loss: 0.0037 - accuracy: 0.9988 - val_loss: 0.0740 - val_accuracy: 0.9866\n",
            "Epoch 18/30\n",
            "860/860 [==============================] - 36s 42ms/step - loss: 0.0028 - accuracy: 0.9992 - val_loss: 0.0908 - val_accuracy: 0.9844\n",
            "Epoch 19/30\n",
            "860/860 [==============================] - 36s 42ms/step - loss: 0.0048 - accuracy: 0.9986 - val_loss: 0.0604 - val_accuracy: 0.9906\n",
            "Epoch 20/30\n",
            "860/860 [==============================] - 36s 42ms/step - loss: 6.0202e-04 - accuracy: 0.9999 - val_loss: 0.0702 - val_accuracy: 0.9906\n",
            "Epoch 21/30\n",
            "860/860 [==============================] - 37s 42ms/step - loss: 6.7037e-05 - accuracy: 1.0000 - val_loss: 0.0641 - val_accuracy: 0.9898\n",
            "Epoch 22/30\n",
            "860/860 [==============================] - 36s 42ms/step - loss: 8.1093e-06 - accuracy: 1.0000 - val_loss: 0.0655 - val_accuracy: 0.9906\n",
            "Epoch 23/30\n",
            "860/860 [==============================] - 37s 42ms/step - loss: 4.4897e-06 - accuracy: 1.0000 - val_loss: 0.0666 - val_accuracy: 0.9906\n",
            "Epoch 24/30\n",
            "860/860 [==============================] - 36s 42ms/step - loss: 2.9421e-06 - accuracy: 1.0000 - val_loss: 0.0679 - val_accuracy: 0.9906\n",
            "Epoch 25/30\n",
            "860/860 [==============================] - 36s 42ms/step - loss: 1.9520e-06 - accuracy: 1.0000 - val_loss: 0.0694 - val_accuracy: 0.9910\n",
            "Epoch 26/30\n",
            "860/860 [==============================] - 36s 42ms/step - loss: 1.2832e-06 - accuracy: 1.0000 - val_loss: 0.0707 - val_accuracy: 0.9912\n",
            "Epoch 27/30\n",
            "860/860 [==============================] - 36s 42ms/step - loss: 8.4313e-07 - accuracy: 1.0000 - val_loss: 0.0725 - val_accuracy: 0.9914\n",
            "Epoch 28/30\n",
            "860/860 [==============================] - 36s 42ms/step - loss: 5.4910e-07 - accuracy: 1.0000 - val_loss: 0.0740 - val_accuracy: 0.9912\n",
            "Epoch 29/30\n",
            "860/860 [==============================] - 37s 42ms/step - loss: 3.6298e-07 - accuracy: 1.0000 - val_loss: 0.0757 - val_accuracy: 0.9912\n",
            "Epoch 30/30\n",
            "860/860 [==============================] - 36s 42ms/step - loss: 2.3492e-07 - accuracy: 1.0000 - val_loss: 0.0776 - val_accuracy: 0.9912\n"
          ],
          "name": "stdout"
        }
      ]
    },
    {
      "cell_type": "code",
      "metadata": {
        "id": "CDnk2WFk1DC7",
        "colab": {
          "base_uri": "https://localhost:8080/",
          "height": 334
        },
        "outputId": "fa92b3c2-739f-44e7-c870-73de9f7f8281"
      },
      "source": [
        "plt.figure(figsize=(8 , 5))\n",
        "plt.subplot(1,2,1)\n",
        "plt.plot(model_history.history['accuracy'], 'o-', label='train accuracy')\n",
        "plt.plot(model_history.history['val_accuracy'], 'o-', label = 'validation accuracy')\n",
        "plt.xlabel('Epoch')\n",
        "plt.ylabel('Accuracy')\n",
        "plt.grid(True)\n",
        "plt.legend(loc='lower right')\n",
        "\n",
        "plt.subplot(1,2,2)\n",
        "plt.plot(model_history.history['loss'], 'o-', label='train loss')\n",
        "plt.plot(model_history.history['val_loss'], 'o-', label='validation loss')\n",
        "plt.xlabel('Epoch')\n",
        "plt.ylabel('Loss')\n",
        "plt.grid(True)\n",
        "plt.legend(loc='upper right')\n",
        "\n",
        "plt.show()"
      ],
      "execution_count": 18,
      "outputs": [
        {
          "output_type": "display_data",
          "data": {
            "image/png": "[encoded data removed]",
            "text/plain": [
              "<Figure size 576x360 with 2 Axes>"
            ]
          },
          "metadata": {
            "tags": [],
            "needs_background": "light"
          }
        }
      ]
    },
    {
      "cell_type": "code",
      "metadata": {
        "id": "ouk7pL5ExrdQ",
        "colab": {
          "base_uri": "https://localhost:8080/"
        },
        "outputId": "20f1f6aa-4a77-4be6-ff5e-81ed81f53793"
      },
      "source": [
        "test_loss, test_acc = model.evaluate(X_test, Y_test)\n",
        "print('\\nTest Accuracy:', test_acc)\n",
        "print('\\nTest Loss:', test_loss)"
      ],
      "execution_count": 20,
      "outputs": [
        {
          "output_type": "stream",
          "text": [
            "313/313 [==============================] - 3s 8ms/step - loss: 0.0764 - accuracy: 0.9895\n",
            "\n",
            "Test Accuracy: 0.9894999861717224\n",
            "\n",
            "Test Loss: 0.07639241218566895\n"
          ],
          "name": "stdout"
        }
      ]
    },
    {
      "cell_type": "markdown",
      "metadata": {
        "id": "blmWrpxHCGdf"
      },
      "source": [
        "**Analyze the affect of using and not using data normalization**\n",
        "\n",
        "We need to normalize the data dimensions so that they are approximately in the same scale. All our values in the range of 0 to 255 so we are going to divide our entire data set by 255 so all our values can set up between 0 and 1. Speed up of training a model is the good effect of data normalization. By data normalization, we can transform all data in a specific range. It also reduces the complexity of data. All the affect is for using data normalization when we are traing  a model. "
      ]
    },
    {
      "cell_type": "code",
      "metadata": {
        "id": "tPmNMHhl_lEr"
      },
      "source": [
        ""
      ],
      "execution_count": null,
      "outputs": []
    }
  ]
}